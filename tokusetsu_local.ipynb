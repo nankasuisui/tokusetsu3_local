{
  "nbformat": 4,
  "nbformat_minor": 0,
  "metadata": {
    "colab": {
      "name": "tokusetsu_local.ipynb",
      "provenance": [],
      "collapsed_sections": [],
      "toc_visible": true
    },
    "kernelspec": {
      "name": "python3",
      "display_name": "Python 3"
    }
  },
  "cells": [
    {
      "cell_type": "code",
      "metadata": {
        "id": "0jeklwO4ioHK"
      },
      "source": [
        "# init\r\n",
        "from google.colab import files\r\n",
        "!git clone https://github.com/nankasuisui/tokusetsu3_local.git\r\n",
        "!cd tokusetsu3_local && python3 tokusetsu3_local.py"
      ],
      "execution_count": null,
      "outputs": []
    },
    {
      "cell_type": "code",
      "metadata": {
        "id": "c5t4AAuri1_g"
      },
      "source": [
        "# input/convert.csvをダウンロードして編集後、アップロード\r\n",
        "# dest/assets/imgに画像をアップロード\r\n",
        "\r\n",
        "!cd tokusetsu3_local && python3 tokusetsu3_local.py\r\n",
        "\r\n",
        "!cd tokusetsu3_local/ &&  zip -r blob.zip dest\r\n",
        "files.download('tokusetsu3_local/blob.zip')"
      ],
      "execution_count": null,
      "outputs": []
    }
  ]
}